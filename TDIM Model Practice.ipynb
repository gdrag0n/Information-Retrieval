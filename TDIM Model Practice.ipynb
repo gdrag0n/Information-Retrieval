{
  "nbformat": 4,
  "nbformat_minor": 0,
  "metadata": {
    "colab": {
      "provenance": [],
      "mount_file_id": "1h9aS4niI040z6MchCAfgbpR0nehoP-S_",
      "authorship_tag": "ABX9TyO++Is/oMQlU3kGiTaDchJH",
      "include_colab_link": true
    },
    "kernelspec": {
      "name": "python3",
      "display_name": "Python 3"
    },
    "language_info": {
      "name": "python"
    }
  },
  "cells": [
    {
      "cell_type": "markdown",
      "metadata": {
        "id": "view-in-github",
        "colab_type": "text"
      },
      "source": [
        "<a href=\"https://colab.research.google.com/github/gdrag0n/Information-Retrieval/blob/main/TDIM%20Model%20Practice.ipynb\" target=\"_parent\"><img src=\"https://colab.research.google.com/assets/colab-badge.svg\" alt=\"Open In Colab\"/></a>"
      ]
    },
    {
      "cell_type": "code",
      "execution_count": 251,
      "metadata": {
        "colab": {
          "base_uri": "https://localhost:8080/"
        },
        "id": "Pih_bGh9HgR7",
        "outputId": "c24db7df-af9e-40be-febb-28dd90522ea1"
      },
      "outputs": [
        {
          "output_type": "stream",
          "name": "stdout",
          "text": [
            "Drive already mounted at /content/drive; to attempt to forcibly remount, call drive.mount(\"/content/drive\", force_remount=True).\n"
          ]
        }
      ],
      "source": [
        "from google.colab import drive\n",
        "drive.mount('/content/drive')"
      ]
    },
    {
      "cell_type": "code",
      "source": [
        "!ls\n",
        "%cd MyDrive\n",
        "!ls\n",
        "%cd 'IR ASSIGNMENT'"
      ],
      "metadata": {
        "colab": {
          "base_uri": "https://localhost:8080/"
        },
        "id": "3NJn_GJgPac5",
        "outputId": "0d74f9e1-d35e-424d-949c-1daffc549e8c"
      },
      "execution_count": 252,
      "outputs": [
        {
          "output_type": "stream",
          "name": "stdout",
          "text": [
            "'An Operating System1.txt'\n",
            "'Modern Operating Systems.txt'\n",
            "'Operating System a Case Study.txt'\n",
            "'Operating Systems From 0 to 1.txt.txt'\n",
            "'Operating Systems.txt'\n",
            "'Operating System.txt'\n",
            "'OS overview.txt'\n",
            "'Research Journal of Recent Sciences.txt'\n",
            "'TIBCO iProcess.txt'\n",
            "'Topic- Operating Systems.txt'\n",
            "'USGS Precipitation-Runoff Modeling System.txt'\n",
            "[Errno 2] No such file or directory: 'MyDrive'\n",
            "/content/drive/MyDrive/IR ASSIGNMENT\n",
            "'An Operating System1.txt'\n",
            "'Modern Operating Systems.txt'\n",
            "'Operating System a Case Study.txt'\n",
            "'Operating Systems From 0 to 1.txt.txt'\n",
            "'Operating Systems.txt'\n",
            "'Operating System.txt'\n",
            "'OS overview.txt'\n",
            "'Research Journal of Recent Sciences.txt'\n",
            "'TIBCO iProcess.txt'\n",
            "'Topic- Operating Systems.txt'\n",
            "'USGS Precipitation-Runoff Modeling System.txt'\n",
            "[Errno 2] No such file or directory: 'IR ASSIGNMENT'\n",
            "/content/drive/MyDrive/IR ASSIGNMENT\n"
          ]
        }
      ]
    },
    {
      "cell_type": "markdown",
      "source": [
        "### The OS module in Python provides functions for interacting with the operating system. "
      ],
      "metadata": {
        "id": "ekdMKru_lD0h"
      }
    },
    {
      "cell_type": "code",
      "source": [
        "# Import Module\n",
        "import os\n",
        "os.listdir()"
      ],
      "metadata": {
        "colab": {
          "base_uri": "https://localhost:8080/"
        },
        "id": "X3GuufysVzye",
        "outputId": "b217f6e6-88e4-42c5-c581-5eacbc361dc8"
      },
      "execution_count": 257,
      "outputs": [
        {
          "output_type": "execute_result",
          "data": {
            "text/plain": [
              "['Operating System a Case Study.txt',\n",
              " 'Operating System.txt',\n",
              " 'Operating Systems From 0 to 1.txt.txt',\n",
              " 'OS overview.txt',\n",
              " 'USGS Precipitation-Runoff Modeling System.txt',\n",
              " 'TIBCO iProcess.txt',\n",
              " 'Research Journal of Recent Sciences.txt',\n",
              " 'Modern Operating Systems.txt',\n",
              " 'Operating Systems.txt',\n",
              " 'Topic- Operating Systems.txt',\n",
              " 'An Operating System1.txt']"
            ]
          },
          "metadata": {},
          "execution_count": 257
        }
      ]
    },
    {
      "cell_type": "markdown",
      "source": [
        "# Part 1\n",
        "### Searching for keyword in each file, returning all files the keyword is present in."
      ],
      "metadata": {
        "id": "-GRasS4rpVDJ"
      }
    },
    {
      "cell_type": "markdown",
      "source": [
        "We are present in the directory required for the operations, hence no need to define a path.\n",
        "\n",
        "* Step: Defining a function to search for 'keyword' through all the files in the directory\n",
        "\n",
        "\n",
        "* Purpose: Return the list of the files 'keyword' is present in."
      ],
      "metadata": {
        "id": "yvNl7CCOlTlu"
      }
    },
    {
      "cell_type": "code",
      "source": [
        "def search(keyword):\n",
        "  l=[]\n",
        "  for file in os.listdir():\n",
        "    f= open(file, 'r')\n",
        "    for x in f:                 #x: each line in f\n",
        "      if keyword in x:          #if keyword in a line\n",
        "        l.append(file)\n",
        "        break\n",
        "\n",
        "  if len(l)==0:\n",
        "    return \"Keyword not found\"\n",
        "  else:\n",
        "    return l"
      ],
      "metadata": {
        "id": "GmO77AnPb-Zb"
      },
      "execution_count": 258,
      "outputs": []
    },
    {
      "cell_type": "markdown",
      "source": [
        "### Running the queries:\n",
        "* process\n",
        "* operating\n",
        "* cpu\n",
        "* deadlock"
      ],
      "metadata": {
        "id": "sv2HpG3inu56"
      }
    },
    {
      "cell_type": "markdown",
      "source": [
        "Query 1:"
      ],
      "metadata": {
        "id": "mnTw2NzwqV75"
      }
    },
    {
      "cell_type": "code",
      "source": [
        "search(\"process\")"
      ],
      "metadata": {
        "colab": {
          "base_uri": "https://localhost:8080/"
        },
        "id": "xckRblikfMin",
        "outputId": "5008fe57-076b-4b88-a3dd-63be7d372a66"
      },
      "execution_count": 259,
      "outputs": [
        {
          "output_type": "execute_result",
          "data": {
            "text/plain": [
              "['Operating System a Case Study.txt',\n",
              " 'Operating System.txt',\n",
              " 'Operating Systems From 0 to 1.txt.txt',\n",
              " 'OS overview.txt',\n",
              " 'TIBCO iProcess.txt',\n",
              " 'Research Journal of Recent Sciences.txt',\n",
              " 'Modern Operating Systems.txt',\n",
              " 'Operating Systems.txt',\n",
              " 'An Operating System1.txt']"
            ]
          },
          "metadata": {},
          "execution_count": 259
        }
      ]
    },
    {
      "cell_type": "markdown",
      "source": [
        "Query 2:"
      ],
      "metadata": {
        "id": "Nl9TPTH4qbi3"
      }
    },
    {
      "cell_type": "code",
      "source": [
        "search(\"operating\")"
      ],
      "metadata": {
        "colab": {
          "base_uri": "https://localhost:8080/"
        },
        "id": "IuhqcN2Ri15p",
        "outputId": "0e9f61e9-465d-4e57-e7cc-9ae9036296d8"
      },
      "execution_count": null,
      "outputs": [
        {
          "output_type": "execute_result",
          "data": {
            "text/plain": [
              "['Operating System a Case Study.txt',\n",
              " 'Operating System.txt',\n",
              " 'Operating Systems From 0 to 1.txt.txt',\n",
              " 'OS overview.txt',\n",
              " 'USGS Precipitation-Runoff Modeling System.txt',\n",
              " 'TIBCO iProcess.txt',\n",
              " 'Research Journal of Recent Sciences.txt',\n",
              " 'Operating Systems.txt',\n",
              " 'Topic- Operating Systems.txt',\n",
              " 'An Operating System1.txt']"
            ]
          },
          "metadata": {},
          "execution_count": 43
        }
      ]
    },
    {
      "cell_type": "markdown",
      "source": [
        "Query 3:"
      ],
      "metadata": {
        "id": "5yO3krgvqecB"
      }
    },
    {
      "cell_type": "code",
      "source": [
        "search(\"cpu\")"
      ],
      "metadata": {
        "colab": {
          "base_uri": "https://localhost:8080/"
        },
        "id": "O2wPR63Ln_3r",
        "outputId": "d3c3bcb0-e5d8-4bb7-cdf2-3db461f56237"
      },
      "execution_count": null,
      "outputs": [
        {
          "output_type": "execute_result",
          "data": {
            "text/plain": [
              "['Operating System.txt', 'Operating Systems From 0 to 1.txt.txt']"
            ]
          },
          "metadata": {},
          "execution_count": 44
        }
      ]
    },
    {
      "cell_type": "markdown",
      "source": [
        "Query 4:"
      ],
      "metadata": {
        "id": "C3qOwTI1qgR4"
      }
    },
    {
      "cell_type": "code",
      "source": [
        "search(\"deadlock\")"
      ],
      "metadata": {
        "colab": {
          "base_uri": "https://localhost:8080/"
        },
        "id": "udXcGPVEoDyG",
        "outputId": "23d2abdc-c22c-4a7c-ffcd-1e41676f01f3"
      },
      "execution_count": null,
      "outputs": [
        {
          "output_type": "execute_result",
          "data": {
            "text/plain": [
              "['Operating System a Case Study.txt',\n",
              " 'Operating System.txt',\n",
              " 'Research Journal of Recent Sciences.txt',\n",
              " 'Modern Operating Systems.txt',\n",
              " 'Operating Systems.txt']"
            ]
          },
          "metadata": {},
          "execution_count": 45
        }
      ]
    },
    {
      "cell_type": "markdown",
      "source": [
        "# Part 2\n",
        "Using the above, instead of appending the file name onto the list, creating an array with binary array which returns 1 when keyword is found and 0 when it is not."
      ],
      "metadata": {
        "id": "w9AWzPyOpsSB"
      }
    },
    {
      "cell_type": "code",
      "source": [
        "def search(keyword):\n",
        "  arr=[]\n",
        "  for file in os.listdir():\n",
        "    f= open(file, 'r')\n",
        "    y=f.read()\n",
        "\n",
        "    if keyword in y:\n",
        "      arr.append(1)\n",
        "    else:\n",
        "      arr.append(0)\n",
        "\n",
        "  return arr"
      ],
      "metadata": {
        "id": "aCOYlkifiIzL"
      },
      "execution_count": 260,
      "outputs": []
    },
    {
      "cell_type": "markdown",
      "source": [
        "Testing the queries again."
      ],
      "metadata": {
        "id": "itRtVBdehYXV"
      }
    },
    {
      "cell_type": "markdown",
      "source": [
        "* Query 1:"
      ],
      "metadata": {
        "id": "IdKWr3KHzq8x"
      }
    },
    {
      "cell_type": "code",
      "source": [
        "search(\"process\")"
      ],
      "metadata": {
        "colab": {
          "base_uri": "https://localhost:8080/"
        },
        "id": "_pGSIz2ZhX60",
        "outputId": "4f93be2b-cfa1-43e4-8eff-31d1e061fda3"
      },
      "execution_count": null,
      "outputs": [
        {
          "output_type": "execute_result",
          "data": {
            "text/plain": [
              "[1, 1, 1, 1, 0, 1, 1, 1, 1, 0, 1]"
            ]
          },
          "metadata": {},
          "execution_count": 76
        }
      ]
    },
    {
      "cell_type": "markdown",
      "source": [
        "* Query 2:"
      ],
      "metadata": {
        "id": "hJbxh6qzztpH"
      }
    },
    {
      "cell_type": "code",
      "source": [
        "search(\"operating\")"
      ],
      "metadata": {
        "colab": {
          "base_uri": "https://localhost:8080/"
        },
        "id": "0gHRraKdzfuj",
        "outputId": "7242fbc1-016b-4abe-db8c-fde0cfe89339"
      },
      "execution_count": null,
      "outputs": [
        {
          "output_type": "execute_result",
          "data": {
            "text/plain": [
              "[1, 1, 1, 1, 1, 1, 1, 0, 1, 1, 1]"
            ]
          },
          "metadata": {},
          "execution_count": 79
        }
      ]
    },
    {
      "cell_type": "markdown",
      "source": [
        "* Query 3:"
      ],
      "metadata": {
        "id": "gfQQNtrPzu_3"
      }
    },
    {
      "cell_type": "code",
      "source": [
        "search(\"cpu\")"
      ],
      "metadata": {
        "colab": {
          "base_uri": "https://localhost:8080/"
        },
        "id": "zs_WlZY5zcQY",
        "outputId": "2c648b7e-c081-4336-e370-adf62a90d69a"
      },
      "execution_count": null,
      "outputs": [
        {
          "output_type": "execute_result",
          "data": {
            "text/plain": [
              "[0, 1, 1, 0, 0, 0, 0, 0, 0, 0, 0]"
            ]
          },
          "metadata": {},
          "execution_count": 78
        }
      ]
    },
    {
      "cell_type": "markdown",
      "source": [
        "* Query 4:"
      ],
      "metadata": {
        "id": "4_0XKWoKzwfP"
      }
    },
    {
      "cell_type": "code",
      "source": [
        "search(\"deadlock\")"
      ],
      "metadata": {
        "colab": {
          "base_uri": "https://localhost:8080/"
        },
        "id": "5CdFnheii-px",
        "outputId": "5305020d-2fea-4e3b-a0f5-174fdba2528e"
      },
      "execution_count": null,
      "outputs": [
        {
          "output_type": "execute_result",
          "data": {
            "text/plain": [
              "[1, 1, 0, 0, 0, 0, 1, 1, 1, 0, 0]"
            ]
          },
          "metadata": {},
          "execution_count": 77
        }
      ]
    },
    {
      "cell_type": "markdown",
      "source": [
        "* Query 5:"
      ],
      "metadata": {
        "id": "ref-kTBq0hD_"
      }
    },
    {
      "cell_type": "code",
      "source": [
        "search(\"computer\")"
      ],
      "metadata": {
        "colab": {
          "base_uri": "https://localhost:8080/"
        },
        "id": "vlqE_cat0ivv",
        "outputId": "354d44de-7633-4d92-81dc-f1bbb6fff7c9"
      },
      "execution_count": null,
      "outputs": [
        {
          "output_type": "execute_result",
          "data": {
            "text/plain": [
              "[1, 1, 1, 0, 1, 0, 1, 0, 0, 1, 1]"
            ]
          },
          "metadata": {},
          "execution_count": 80
        }
      ]
    },
    {
      "cell_type": "markdown",
      "source": [
        "# Part 3\n",
        "### Table Creation using pandas and numpy"
      ],
      "metadata": {
        "id": "5VdYMcCNp2q7"
      }
    },
    {
      "cell_type": "markdown",
      "source": [
        "importing numpy and pandas"
      ],
      "metadata": {
        "id": "mqp4OVb_zx03"
      }
    },
    {
      "cell_type": "code",
      "source": [
        "import numpy as np\n",
        "import pandas as pd"
      ],
      "metadata": {
        "id": "qHbopr46qtVQ"
      },
      "execution_count": 261,
      "outputs": []
    },
    {
      "cell_type": "markdown",
      "source": [
        "Modifying the code to suit the new format.\n",
        "\n",
        "Incorporating dictionary."
      ],
      "metadata": {
        "id": "_pJFomrG2UZX"
      }
    },
    {
      "cell_type": "code",
      "source": [
        "def search(keyword):\n",
        "  d={}\n",
        "  for file in os.listdir():\n",
        "    f= open(file, 'r')\n",
        "    y=f.read()\n",
        "\n",
        "    if keyword in y:\n",
        "      r=1\n",
        "      d[file]=r\n",
        "    else:\n",
        "      r=0\n",
        "      d[file]=r\n",
        "  \n",
        "  return d"
      ],
      "metadata": {
        "id": "Ry0r4HFY2T-y"
      },
      "execution_count": 262,
      "outputs": []
    },
    {
      "cell_type": "code",
      "source": [
        "search(\"process\")"
      ],
      "metadata": {
        "colab": {
          "base_uri": "https://localhost:8080/"
        },
        "id": "pHnyQWKS47FQ",
        "outputId": "45df5c3c-a3da-4faa-8bdd-1890f385bd7f"
      },
      "execution_count": 263,
      "outputs": [
        {
          "output_type": "execute_result",
          "data": {
            "text/plain": [
              "{'Operating System a Case Study.txt': 1,\n",
              " 'Operating System.txt': 1,\n",
              " 'Operating Systems From 0 to 1.txt.txt': 1,\n",
              " 'OS overview.txt': 1,\n",
              " 'USGS Precipitation-Runoff Modeling System.txt': 0,\n",
              " 'TIBCO iProcess.txt': 1,\n",
              " 'Research Journal of Recent Sciences.txt': 1,\n",
              " 'Modern Operating Systems.txt': 1,\n",
              " 'Operating Systems.txt': 1,\n",
              " 'Topic- Operating Systems.txt': 0,\n",
              " 'An Operating System1.txt': 1}"
            ]
          },
          "metadata": {},
          "execution_count": 263
        }
      ]
    },
    {
      "cell_type": "markdown",
      "source": [
        "Shows that the code is functioning as expected and as designed to.\n",
        "\n",
        "Modifying the code so as to obtain a table for each query."
      ],
      "metadata": {
        "id": "cfBBS2SX7knY"
      }
    },
    {
      "cell_type": "code",
      "source": [
        "def search(keyword):\n",
        "  d={}\n",
        "  for file in os.listdir():\n",
        "    f= open(file, 'r')\n",
        "    y=f.read()\n",
        "\n",
        "    if keyword in y:\n",
        "      r=1\n",
        "      d[file]=r\n",
        "    else:\n",
        "      r=0\n",
        "      d[file]=r\n",
        "      \n",
        "  k=[keyword]\n",
        "  df=pd.DataFrame(data=d, index=k)\n",
        "  return df"
      ],
      "metadata": {
        "id": "qMIadQcd-2m4"
      },
      "execution_count": 264,
      "outputs": []
    },
    {
      "cell_type": "code",
      "source": [
        "search(\"process\")"
      ],
      "metadata": {
        "colab": {
          "base_uri": "https://localhost:8080/",
          "height": 177
        },
        "id": "TIICZCPh-7Cq",
        "outputId": "0a3e384f-1b3e-4f26-fde9-4c8cc5b88c3f"
      },
      "execution_count": 265,
      "outputs": [
        {
          "output_type": "execute_result",
          "data": {
            "text/plain": [
              "         Operating System a Case Study.txt  Operating System.txt  \\\n",
              "process                                  1                     1   \n",
              "\n",
              "         Operating Systems From 0 to 1.txt.txt  OS overview.txt  \\\n",
              "process                                      1                1   \n",
              "\n",
              "         USGS Precipitation-Runoff Modeling System.txt  TIBCO iProcess.txt  \\\n",
              "process                                              0                   1   \n",
              "\n",
              "         Research Journal of Recent Sciences.txt  \\\n",
              "process                                        1   \n",
              "\n",
              "         Modern Operating Systems.txt  Operating Systems.txt  \\\n",
              "process                             1                      1   \n",
              "\n",
              "         Topic- Operating Systems.txt  An Operating System1.txt  \n",
              "process                             0                         1  "
            ],
            "text/html": [
              "\n",
              "  <div id=\"df-e4af4344-64fa-449c-a912-f7f69adf3739\">\n",
              "    <div class=\"colab-df-container\">\n",
              "      <div>\n",
              "<style scoped>\n",
              "    .dataframe tbody tr th:only-of-type {\n",
              "        vertical-align: middle;\n",
              "    }\n",
              "\n",
              "    .dataframe tbody tr th {\n",
              "        vertical-align: top;\n",
              "    }\n",
              "\n",
              "    .dataframe thead th {\n",
              "        text-align: right;\n",
              "    }\n",
              "</style>\n",
              "<table border=\"1\" class=\"dataframe\">\n",
              "  <thead>\n",
              "    <tr style=\"text-align: right;\">\n",
              "      <th></th>\n",
              "      <th>Operating System a Case Study.txt</th>\n",
              "      <th>Operating System.txt</th>\n",
              "      <th>Operating Systems From 0 to 1.txt.txt</th>\n",
              "      <th>OS overview.txt</th>\n",
              "      <th>USGS Precipitation-Runoff Modeling System.txt</th>\n",
              "      <th>TIBCO iProcess.txt</th>\n",
              "      <th>Research Journal of Recent Sciences.txt</th>\n",
              "      <th>Modern Operating Systems.txt</th>\n",
              "      <th>Operating Systems.txt</th>\n",
              "      <th>Topic- Operating Systems.txt</th>\n",
              "      <th>An Operating System1.txt</th>\n",
              "    </tr>\n",
              "  </thead>\n",
              "  <tbody>\n",
              "    <tr>\n",
              "      <th>process</th>\n",
              "      <td>1</td>\n",
              "      <td>1</td>\n",
              "      <td>1</td>\n",
              "      <td>1</td>\n",
              "      <td>0</td>\n",
              "      <td>1</td>\n",
              "      <td>1</td>\n",
              "      <td>1</td>\n",
              "      <td>1</td>\n",
              "      <td>0</td>\n",
              "      <td>1</td>\n",
              "    </tr>\n",
              "  </tbody>\n",
              "</table>\n",
              "</div>\n",
              "      <button class=\"colab-df-convert\" onclick=\"convertToInteractive('df-e4af4344-64fa-449c-a912-f7f69adf3739')\"\n",
              "              title=\"Convert this dataframe to an interactive table.\"\n",
              "              style=\"display:none;\">\n",
              "        \n",
              "  <svg xmlns=\"http://www.w3.org/2000/svg\" height=\"24px\"viewBox=\"0 0 24 24\"\n",
              "       width=\"24px\">\n",
              "    <path d=\"M0 0h24v24H0V0z\" fill=\"none\"/>\n",
              "    <path d=\"M18.56 5.44l.94 2.06.94-2.06 2.06-.94-2.06-.94-.94-2.06-.94 2.06-2.06.94zm-11 1L8.5 8.5l.94-2.06 2.06-.94-2.06-.94L8.5 2.5l-.94 2.06-2.06.94zm10 10l.94 2.06.94-2.06 2.06-.94-2.06-.94-.94-2.06-.94 2.06-2.06.94z\"/><path d=\"M17.41 7.96l-1.37-1.37c-.4-.4-.92-.59-1.43-.59-.52 0-1.04.2-1.43.59L10.3 9.45l-7.72 7.72c-.78.78-.78 2.05 0 2.83L4 21.41c.39.39.9.59 1.41.59.51 0 1.02-.2 1.41-.59l7.78-7.78 2.81-2.81c.8-.78.8-2.07 0-2.86zM5.41 20L4 18.59l7.72-7.72 1.47 1.35L5.41 20z\"/>\n",
              "  </svg>\n",
              "      </button>\n",
              "      \n",
              "  <style>\n",
              "    .colab-df-container {\n",
              "      display:flex;\n",
              "      flex-wrap:wrap;\n",
              "      gap: 12px;\n",
              "    }\n",
              "\n",
              "    .colab-df-convert {\n",
              "      background-color: #E8F0FE;\n",
              "      border: none;\n",
              "      border-radius: 50%;\n",
              "      cursor: pointer;\n",
              "      display: none;\n",
              "      fill: #1967D2;\n",
              "      height: 32px;\n",
              "      padding: 0 0 0 0;\n",
              "      width: 32px;\n",
              "    }\n",
              "\n",
              "    .colab-df-convert:hover {\n",
              "      background-color: #E2EBFA;\n",
              "      box-shadow: 0px 1px 2px rgba(60, 64, 67, 0.3), 0px 1px 3px 1px rgba(60, 64, 67, 0.15);\n",
              "      fill: #174EA6;\n",
              "    }\n",
              "\n",
              "    [theme=dark] .colab-df-convert {\n",
              "      background-color: #3B4455;\n",
              "      fill: #D2E3FC;\n",
              "    }\n",
              "\n",
              "    [theme=dark] .colab-df-convert:hover {\n",
              "      background-color: #434B5C;\n",
              "      box-shadow: 0px 1px 3px 1px rgba(0, 0, 0, 0.15);\n",
              "      filter: drop-shadow(0px 1px 2px rgba(0, 0, 0, 0.3));\n",
              "      fill: #FFFFFF;\n",
              "    }\n",
              "  </style>\n",
              "\n",
              "      <script>\n",
              "        const buttonEl =\n",
              "          document.querySelector('#df-e4af4344-64fa-449c-a912-f7f69adf3739 button.colab-df-convert');\n",
              "        buttonEl.style.display =\n",
              "          google.colab.kernel.accessAllowed ? 'block' : 'none';\n",
              "\n",
              "        async function convertToInteractive(key) {\n",
              "          const element = document.querySelector('#df-e4af4344-64fa-449c-a912-f7f69adf3739');\n",
              "          const dataTable =\n",
              "            await google.colab.kernel.invokeFunction('convertToInteractive',\n",
              "                                                     [key], {});\n",
              "          if (!dataTable) return;\n",
              "\n",
              "          const docLinkHtml = 'Like what you see? Visit the ' +\n",
              "            '<a target=\"_blank\" href=https://colab.research.google.com/notebooks/data_table.ipynb>data table notebook</a>'\n",
              "            + ' to learn more about interactive tables.';\n",
              "          element.innerHTML = '';\n",
              "          dataTable['output_type'] = 'display_data';\n",
              "          await google.colab.output.renderOutput(dataTable, element);\n",
              "          const docLink = document.createElement('div');\n",
              "          docLink.innerHTML = docLinkHtml;\n",
              "          element.appendChild(docLink);\n",
              "        }\n",
              "      </script>\n",
              "    </div>\n",
              "  </div>\n",
              "  "
            ]
          },
          "metadata": {},
          "execution_count": 265
        }
      ]
    },
    {
      "cell_type": "code",
      "source": [
        "keywords=[\"process\", \"cpu\", \"operating\", \"deadlock\", \"computer\"]\n",
        "\n",
        "t=[]\n",
        "for i in keywords:\n",
        "  d=search(i)\n",
        "  t.append(d)"
      ],
      "metadata": {
        "id": "eHKS8vOgp2OO"
      },
      "execution_count": 266,
      "outputs": []
    },
    {
      "cell_type": "markdown",
      "source": [
        "### Binary Sparse Matrix for TDIM Model\n",
        "\n",
        "Table contains binary result for each query in the keyword list"
      ],
      "metadata": {
        "id": "v_0zt9OwEn6l"
      }
    },
    {
      "cell_type": "code",
      "source": [
        "df=pd.concat(t)\n",
        "keyword=pd.Index(keywords)\n",
        "df.set_index(keyword)"
      ],
      "metadata": {
        "colab": {
          "base_uri": "https://localhost:8080/",
          "height": 302
        },
        "id": "gXhmGcjJbnSj",
        "outputId": "86c35882-b080-4047-b1e6-34704c676bf1"
      },
      "execution_count": 267,
      "outputs": [
        {
          "output_type": "execute_result",
          "data": {
            "text/plain": [
              "           Operating System a Case Study.txt  Operating System.txt  \\\n",
              "process                                    1                     1   \n",
              "cpu                                        0                     1   \n",
              "operating                                  1                     1   \n",
              "deadlock                                   1                     1   \n",
              "computer                                   1                     1   \n",
              "\n",
              "           Operating Systems From 0 to 1.txt.txt  OS overview.txt  \\\n",
              "process                                        1                1   \n",
              "cpu                                            1                0   \n",
              "operating                                      1                1   \n",
              "deadlock                                       0                0   \n",
              "computer                                       1                0   \n",
              "\n",
              "           USGS Precipitation-Runoff Modeling System.txt  TIBCO iProcess.txt  \\\n",
              "process                                                0                   1   \n",
              "cpu                                                    0                   0   \n",
              "operating                                              1                   1   \n",
              "deadlock                                               0                   0   \n",
              "computer                                               1                   0   \n",
              "\n",
              "           Research Journal of Recent Sciences.txt  \\\n",
              "process                                          1   \n",
              "cpu                                              0   \n",
              "operating                                        1   \n",
              "deadlock                                         1   \n",
              "computer                                         1   \n",
              "\n",
              "           Modern Operating Systems.txt  Operating Systems.txt  \\\n",
              "process                               1                      1   \n",
              "cpu                                   0                      0   \n",
              "operating                             0                      1   \n",
              "deadlock                              1                      1   \n",
              "computer                              0                      0   \n",
              "\n",
              "           Topic- Operating Systems.txt  An Operating System1.txt  \n",
              "process                               0                         1  \n",
              "cpu                                   0                         0  \n",
              "operating                             1                         1  \n",
              "deadlock                              0                         0  \n",
              "computer                              1                         1  "
            ],
            "text/html": [
              "\n",
              "  <div id=\"df-723db6f6-e861-4ce3-8336-2bd05eb745f6\">\n",
              "    <div class=\"colab-df-container\">\n",
              "      <div>\n",
              "<style scoped>\n",
              "    .dataframe tbody tr th:only-of-type {\n",
              "        vertical-align: middle;\n",
              "    }\n",
              "\n",
              "    .dataframe tbody tr th {\n",
              "        vertical-align: top;\n",
              "    }\n",
              "\n",
              "    .dataframe thead th {\n",
              "        text-align: right;\n",
              "    }\n",
              "</style>\n",
              "<table border=\"1\" class=\"dataframe\">\n",
              "  <thead>\n",
              "    <tr style=\"text-align: right;\">\n",
              "      <th></th>\n",
              "      <th>Operating System a Case Study.txt</th>\n",
              "      <th>Operating System.txt</th>\n",
              "      <th>Operating Systems From 0 to 1.txt.txt</th>\n",
              "      <th>OS overview.txt</th>\n",
              "      <th>USGS Precipitation-Runoff Modeling System.txt</th>\n",
              "      <th>TIBCO iProcess.txt</th>\n",
              "      <th>Research Journal of Recent Sciences.txt</th>\n",
              "      <th>Modern Operating Systems.txt</th>\n",
              "      <th>Operating Systems.txt</th>\n",
              "      <th>Topic- Operating Systems.txt</th>\n",
              "      <th>An Operating System1.txt</th>\n",
              "    </tr>\n",
              "  </thead>\n",
              "  <tbody>\n",
              "    <tr>\n",
              "      <th>process</th>\n",
              "      <td>1</td>\n",
              "      <td>1</td>\n",
              "      <td>1</td>\n",
              "      <td>1</td>\n",
              "      <td>0</td>\n",
              "      <td>1</td>\n",
              "      <td>1</td>\n",
              "      <td>1</td>\n",
              "      <td>1</td>\n",
              "      <td>0</td>\n",
              "      <td>1</td>\n",
              "    </tr>\n",
              "    <tr>\n",
              "      <th>cpu</th>\n",
              "      <td>0</td>\n",
              "      <td>1</td>\n",
              "      <td>1</td>\n",
              "      <td>0</td>\n",
              "      <td>0</td>\n",
              "      <td>0</td>\n",
              "      <td>0</td>\n",
              "      <td>0</td>\n",
              "      <td>0</td>\n",
              "      <td>0</td>\n",
              "      <td>0</td>\n",
              "    </tr>\n",
              "    <tr>\n",
              "      <th>operating</th>\n",
              "      <td>1</td>\n",
              "      <td>1</td>\n",
              "      <td>1</td>\n",
              "      <td>1</td>\n",
              "      <td>1</td>\n",
              "      <td>1</td>\n",
              "      <td>1</td>\n",
              "      <td>0</td>\n",
              "      <td>1</td>\n",
              "      <td>1</td>\n",
              "      <td>1</td>\n",
              "    </tr>\n",
              "    <tr>\n",
              "      <th>deadlock</th>\n",
              "      <td>1</td>\n",
              "      <td>1</td>\n",
              "      <td>0</td>\n",
              "      <td>0</td>\n",
              "      <td>0</td>\n",
              "      <td>0</td>\n",
              "      <td>1</td>\n",
              "      <td>1</td>\n",
              "      <td>1</td>\n",
              "      <td>0</td>\n",
              "      <td>0</td>\n",
              "    </tr>\n",
              "    <tr>\n",
              "      <th>computer</th>\n",
              "      <td>1</td>\n",
              "      <td>1</td>\n",
              "      <td>1</td>\n",
              "      <td>0</td>\n",
              "      <td>1</td>\n",
              "      <td>0</td>\n",
              "      <td>1</td>\n",
              "      <td>0</td>\n",
              "      <td>0</td>\n",
              "      <td>1</td>\n",
              "      <td>1</td>\n",
              "    </tr>\n",
              "  </tbody>\n",
              "</table>\n",
              "</div>\n",
              "      <button class=\"colab-df-convert\" onclick=\"convertToInteractive('df-723db6f6-e861-4ce3-8336-2bd05eb745f6')\"\n",
              "              title=\"Convert this dataframe to an interactive table.\"\n",
              "              style=\"display:none;\">\n",
              "        \n",
              "  <svg xmlns=\"http://www.w3.org/2000/svg\" height=\"24px\"viewBox=\"0 0 24 24\"\n",
              "       width=\"24px\">\n",
              "    <path d=\"M0 0h24v24H0V0z\" fill=\"none\"/>\n",
              "    <path d=\"M18.56 5.44l.94 2.06.94-2.06 2.06-.94-2.06-.94-.94-2.06-.94 2.06-2.06.94zm-11 1L8.5 8.5l.94-2.06 2.06-.94-2.06-.94L8.5 2.5l-.94 2.06-2.06.94zm10 10l.94 2.06.94-2.06 2.06-.94-2.06-.94-.94-2.06-.94 2.06-2.06.94z\"/><path d=\"M17.41 7.96l-1.37-1.37c-.4-.4-.92-.59-1.43-.59-.52 0-1.04.2-1.43.59L10.3 9.45l-7.72 7.72c-.78.78-.78 2.05 0 2.83L4 21.41c.39.39.9.59 1.41.59.51 0 1.02-.2 1.41-.59l7.78-7.78 2.81-2.81c.8-.78.8-2.07 0-2.86zM5.41 20L4 18.59l7.72-7.72 1.47 1.35L5.41 20z\"/>\n",
              "  </svg>\n",
              "      </button>\n",
              "      \n",
              "  <style>\n",
              "    .colab-df-container {\n",
              "      display:flex;\n",
              "      flex-wrap:wrap;\n",
              "      gap: 12px;\n",
              "    }\n",
              "\n",
              "    .colab-df-convert {\n",
              "      background-color: #E8F0FE;\n",
              "      border: none;\n",
              "      border-radius: 50%;\n",
              "      cursor: pointer;\n",
              "      display: none;\n",
              "      fill: #1967D2;\n",
              "      height: 32px;\n",
              "      padding: 0 0 0 0;\n",
              "      width: 32px;\n",
              "    }\n",
              "\n",
              "    .colab-df-convert:hover {\n",
              "      background-color: #E2EBFA;\n",
              "      box-shadow: 0px 1px 2px rgba(60, 64, 67, 0.3), 0px 1px 3px 1px rgba(60, 64, 67, 0.15);\n",
              "      fill: #174EA6;\n",
              "    }\n",
              "\n",
              "    [theme=dark] .colab-df-convert {\n",
              "      background-color: #3B4455;\n",
              "      fill: #D2E3FC;\n",
              "    }\n",
              "\n",
              "    [theme=dark] .colab-df-convert:hover {\n",
              "      background-color: #434B5C;\n",
              "      box-shadow: 0px 1px 3px 1px rgba(0, 0, 0, 0.15);\n",
              "      filter: drop-shadow(0px 1px 2px rgba(0, 0, 0, 0.3));\n",
              "      fill: #FFFFFF;\n",
              "    }\n",
              "  </style>\n",
              "\n",
              "      <script>\n",
              "        const buttonEl =\n",
              "          document.querySelector('#df-723db6f6-e861-4ce3-8336-2bd05eb745f6 button.colab-df-convert');\n",
              "        buttonEl.style.display =\n",
              "          google.colab.kernel.accessAllowed ? 'block' : 'none';\n",
              "\n",
              "        async function convertToInteractive(key) {\n",
              "          const element = document.querySelector('#df-723db6f6-e861-4ce3-8336-2bd05eb745f6');\n",
              "          const dataTable =\n",
              "            await google.colab.kernel.invokeFunction('convertToInteractive',\n",
              "                                                     [key], {});\n",
              "          if (!dataTable) return;\n",
              "\n",
              "          const docLinkHtml = 'Like what you see? Visit the ' +\n",
              "            '<a target=\"_blank\" href=https://colab.research.google.com/notebooks/data_table.ipynb>data table notebook</a>'\n",
              "            + ' to learn more about interactive tables.';\n",
              "          element.innerHTML = '';\n",
              "          dataTable['output_type'] = 'display_data';\n",
              "          await google.colab.output.renderOutput(dataTable, element);\n",
              "          const docLink = document.createElement('div');\n",
              "          docLink.innerHTML = docLinkHtml;\n",
              "          element.appendChild(docLink);\n",
              "        }\n",
              "      </script>\n",
              "    </div>\n",
              "  </div>\n",
              "  "
            ]
          },
          "metadata": {},
          "execution_count": 267
        }
      ]
    },
    {
      "cell_type": "markdown",
      "source": [
        "# Part 4\n",
        "Now, fetching the binary data of reqiured query terms"
      ],
      "metadata": {
        "id": "0nkdPt9_FZSt"
      }
    },
    {
      "cell_type": "code",
      "source": [
        "def query(kw):\n",
        "  return df.loc[kw].values.flatten().tolist()\n",
        "\n",
        "q1 = \"process\"\n",
        "q2 = \"cpu\"\n",
        "q3 = \"deadlock\""
      ],
      "metadata": {
        "id": "pR711n-LGHyu"
      },
      "execution_count": 268,
      "outputs": []
    },
    {
      "cell_type": "code",
      "source": [
        "query1 = np.array(query(q1))    \n",
        "query2 = np.array(query(q2))\n",
        "query3 = np.array(query(q3))"
      ],
      "metadata": {
        "id": "K2DCePEDIMhQ"
      },
      "execution_count": 269,
      "outputs": []
    },
    {
      "cell_type": "code",
      "source": [
        "print(query1)\n",
        "print(query2)\n",
        "print(query3)"
      ],
      "metadata": {
        "colab": {
          "base_uri": "https://localhost:8080/"
        },
        "id": "zpP-scclcKXF",
        "outputId": "187af351-1a32-45df-e7c9-88004de4b182"
      },
      "execution_count": 271,
      "outputs": [
        {
          "output_type": "stream",
          "name": "stdout",
          "text": [
            "[1 1 1 1 0 1 1 1 1 0 1]\n",
            "[0 1 1 0 0 0 0 0 0 0 0]\n",
            "[1 1 0 0 0 0 1 1 1 0 0]\n"
          ]
        }
      ]
    },
    {
      "cell_type": "code",
      "source": [
        "#query= q1 and q2 not q3\n",
        "\n",
        "query=(query1 & query2 & ~query3)\n",
        "print(query)"
      ],
      "metadata": {
        "colab": {
          "base_uri": "https://localhost:8080/"
        },
        "id": "AqpJPesSdDpn",
        "outputId": "b4a7c54f-6af9-4678-91e2-96bfe8ad860e"
      },
      "execution_count": 272,
      "outputs": [
        {
          "output_type": "stream",
          "name": "stdout",
          "text": [
            "[0 0 1 0 0 0 0 0 0 0 0]\n"
          ]
        }
      ]
    },
    {
      "cell_type": "code",
      "source": [
        "files=[]\n",
        "for f in os.listdir():\n",
        "  files.append(f)"
      ],
      "metadata": {
        "id": "31LHU_Lsd8xn"
      },
      "execution_count": 273,
      "outputs": []
    },
    {
      "cell_type": "code",
      "source": [
        "result=[]\n",
        "\n",
        "index=(np.where(query == 1)[0])\n",
        "\n",
        "for i in index:\n",
        "  result.append(files[i])\n",
        "\n",
        "print(result)"
      ],
      "metadata": {
        "colab": {
          "base_uri": "https://localhost:8080/"
        },
        "id": "ygz_2dLadwV_",
        "outputId": "e07e5fbe-354d-41ee-ec96-ca63efd66542"
      },
      "execution_count": 274,
      "outputs": [
        {
          "output_type": "stream",
          "name": "stdout",
          "text": [
            "['Operating Systems From 0 to 1.txt.txt']\n"
          ]
        }
      ]
    }
  ]
}